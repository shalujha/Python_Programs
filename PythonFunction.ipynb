{
 "cells": [
  {
   "cell_type": "markdown",
   "metadata": {},
   "source": [
    "# Python Functions"
   ]
  },
  {
   "cell_type": "code",
   "execution_count": 1,
   "metadata": {},
   "outputs": [],
   "source": [
    "# part of a program which can do some task is called functions\n"
   ]
  },
  {
   "cell_type": "markdown",
   "metadata": {},
   "source": [
    "# Function Syntax"
   ]
  },
  {
   "cell_type": "code",
   "execution_count": 4,
   "metadata": {},
   "outputs": [
    {
     "name": "stdout",
     "output_type": "stream",
     "text": [
      "Knock Knock Knock !!!\n",
      "Knock Knock Knock !!!\n",
      "Knock Knock Knock !!!\n",
      "0\n",
      "1\n",
      "2\n",
      "3\n",
      "4\n",
      "5\n",
      "6\n",
      "7\n",
      "8\n",
      "9\n",
      "Knock Knock Knock !!!\n",
      "Knock Knock Knock !!!\n",
      "Knock Knock Knock !!!\n"
     ]
    }
   ],
   "source": [
    "def sheldon_Knocks():\n",
    "    print(\"Knock Knock Knock !!!\")\n",
    "    print(\"Knock Knock Knock !!!\")\n",
    "    print(\"Knock Knock Knock !!!\")\n",
    "sheldon_Knocks()\n",
    "for i in range(10):\n",
    "    print(i)\n",
    "sheldon_Knocks()\n"
   ]
  },
  {
   "cell_type": "markdown",
   "metadata": {},
   "source": [
    "# Function can take Parameters"
   ]
  },
  {
   "cell_type": "code",
   "execution_count": 10,
   "metadata": {},
   "outputs": [
    {
     "name": "stdout",
     "output_type": "stream",
     "text": [
      "Knock Knock Knock!!  shalini \n",
      "Knock Knock Knock!!  shalini \n",
      "Knock Knock Knock!!  shalini \n"
     ]
    }
   ],
   "source": [
    "def sheldon_Knock(name):\n",
    "    print(\"Knock Knock Knock!!  {} \".format(name))\n",
    "    print(\"Knock Knock Knock!!  {} \".format(name))\n",
    "    print(\"Knock Knock Knock!!  {} \".format(name))\n",
    "sheldon_Knock(\"shalini\")"
   ]
  },
  {
   "cell_type": "markdown",
   "metadata": {},
   "source": [
    "# we can do this dynamically too !!"
   ]
  },
  {
   "cell_type": "code",
   "execution_count": 13,
   "metadata": {},
   "outputs": [
    {
     "name": "stdout",
     "output_type": "stream",
     "text": [
      "Knock Knock Knock!!  shalini \n",
      "Knock Knock Knock!!  shalini \n",
      "Knock Knock Knock!!  shalini \n",
      "Knock Knock Knock!!  shalini \n",
      "Knock Knock Knock!!  shalini \n"
     ]
    }
   ],
   "source": [
    "def sheldon_Knock(name,no_of_times):\n",
    "    for i in range(no_of_times):\n",
    "        print(\"Knock Knock Knock!!  {} \".format(name))\n",
    "sheldon_Knock(\"shalini\",5)"
   ]
  },
  {
   "cell_type": "markdown",
   "metadata": {},
   "source": [
    "# Concept of default Parameters"
   ]
  },
  {
   "cell_type": "code",
   "execution_count": 33,
   "metadata": {},
   "outputs": [
    {
     "name": "stdout",
     "output_type": "stream",
     "text": [
      "Knock Knock Knock!!  shalini \n",
      "Knock Knock Knock!!  shalini \n",
      "Knock Knock Knock!!  shalini \n"
     ]
    }
   ],
   "source": [
    "def sheldon_Knock(name,no_of_times=3):\n",
    "    for i in range(no_of_times):\n",
    "        print(\"Knock Knock Knock!!  {} \".format(name))\n",
    "sheldon_Knock(\"shalini\")"
   ]
  },
  {
   "cell_type": "markdown",
   "metadata": {},
   "source": [
    "# Return Statement"
   ]
  },
  {
   "cell_type": "code",
   "execution_count": 15,
   "metadata": {},
   "outputs": [
    {
     "name": "stdout",
     "output_type": "stream",
     "text": [
      "30\n"
     ]
    }
   ],
   "source": [
    "def add(a,b):\n",
    "    return a+b  \n",
    "x=add(10,20)\n",
    "print(x)"
   ]
  },
  {
   "cell_type": "code",
   "execution_count": 19,
   "metadata": {},
   "outputs": [
    {
     "name": "stdout",
     "output_type": "stream",
     "text": [
      "Wrapping up!!!\n",
      "2.0\n"
     ]
    }
   ],
   "source": [
    "def div(a,b):\n",
    "    try:\n",
    "        return a/b\n",
    "    except:\n",
    "        print(\"error\")\n",
    "    finally:\n",
    "        print(\"Wrapping up!!!\")\n",
    "x=div(10,5)\n",
    "print(x)\n",
    "# if finally blocks has a return statement , it will finally evaluate to return statement of finally. and discard the return statement of try block."
   ]
  },
  {
   "cell_type": "markdown",
   "metadata": {},
   "source": [
    "# Local and Global Variables"
   ]
  },
  {
   "cell_type": "code",
   "execution_count": 26,
   "metadata": {},
   "outputs": [
    {
     "name": "stdout",
     "output_type": "stream",
     "text": [
      "5\n",
      "10\n"
     ]
    }
   ],
   "source": [
    "x=10    # Global Variable             \n",
    "def show():\n",
    "    x=5     # Local Variable           \n",
    "    print(x)\n",
    "show()\n",
    "print(x)"
   ]
  },
  {
   "cell_type": "code",
   "execution_count": 27,
   "metadata": {},
   "outputs": [
    {
     "ename": "UnboundLocalError",
     "evalue": "local variable 'x' referenced before assignment",
     "output_type": "error",
     "traceback": [
      "\u001b[1;31m---------------------------------------------------------------------------\u001b[0m",
      "\u001b[1;31mUnboundLocalError\u001b[0m                         Traceback (most recent call last)",
      "\u001b[1;32m<ipython-input-27-7e2b613a9755>\u001b[0m in \u001b[0;36m<module>\u001b[1;34m\u001b[0m\n\u001b[0;32m      4\u001b[0m     \u001b[0mx\u001b[0m\u001b[1;33m+=\u001b[0m\u001b[1;36m5\u001b[0m     \u001b[1;31m# Local Variable\u001b[0m\u001b[1;33m\u001b[0m\u001b[1;33m\u001b[0m\u001b[0m\n\u001b[0;32m      5\u001b[0m     \u001b[0mprint\u001b[0m\u001b[1;33m(\u001b[0m\u001b[0mx\u001b[0m\u001b[1;33m)\u001b[0m\u001b[1;33m\u001b[0m\u001b[1;33m\u001b[0m\u001b[0m\n\u001b[1;32m----> 6\u001b[1;33m \u001b[0mshow\u001b[0m\u001b[1;33m(\u001b[0m\u001b[1;33m)\u001b[0m\u001b[1;33m\u001b[0m\u001b[1;33m\u001b[0m\u001b[0m\n\u001b[0m\u001b[0;32m      7\u001b[0m \u001b[0mprint\u001b[0m\u001b[1;33m(\u001b[0m\u001b[0mx\u001b[0m\u001b[1;33m)\u001b[0m\u001b[1;33m\u001b[0m\u001b[1;33m\u001b[0m\u001b[0m\n",
      "\u001b[1;32m<ipython-input-27-7e2b613a9755>\u001b[0m in \u001b[0;36mshow\u001b[1;34m()\u001b[0m\n\u001b[0;32m      2\u001b[0m \u001b[0mx\u001b[0m\u001b[1;33m=\u001b[0m\u001b[1;36m10\u001b[0m    \u001b[1;31m# Global Variable\u001b[0m\u001b[1;33m\u001b[0m\u001b[1;33m\u001b[0m\u001b[0m\n\u001b[0;32m      3\u001b[0m \u001b[1;32mdef\u001b[0m \u001b[0mshow\u001b[0m\u001b[1;33m(\u001b[0m\u001b[1;33m)\u001b[0m\u001b[1;33m:\u001b[0m\u001b[1;33m\u001b[0m\u001b[1;33m\u001b[0m\u001b[0m\n\u001b[1;32m----> 4\u001b[1;33m     \u001b[0mx\u001b[0m\u001b[1;33m+=\u001b[0m\u001b[1;36m5\u001b[0m     \u001b[1;31m# Local Variable\u001b[0m\u001b[1;33m\u001b[0m\u001b[1;33m\u001b[0m\u001b[0m\n\u001b[0m\u001b[0;32m      5\u001b[0m     \u001b[0mprint\u001b[0m\u001b[1;33m(\u001b[0m\u001b[0mx\u001b[0m\u001b[1;33m)\u001b[0m\u001b[1;33m\u001b[0m\u001b[1;33m\u001b[0m\u001b[0m\n\u001b[0;32m      6\u001b[0m \u001b[0mshow\u001b[0m\u001b[1;33m(\u001b[0m\u001b[1;33m)\u001b[0m\u001b[1;33m\u001b[0m\u001b[1;33m\u001b[0m\u001b[0m\n",
      "\u001b[1;31mUnboundLocalError\u001b[0m: local variable 'x' referenced before assignment"
     ]
    }
   ],
   "source": [
    "# we cant update global variable inside a function. it will throw an error.example: we cant do this:\n",
    "x=10    # Global Variable             \n",
    "def show():\n",
    "    x+=5     # Local Variable           \n",
    "    print(x)\n",
    "show()\n",
    "print(x)"
   ]
  },
  {
   "cell_type": "code",
   "execution_count": 28,
   "metadata": {},
   "outputs": [
    {
     "name": "stdout",
     "output_type": "stream",
     "text": [
      "15\n",
      "15\n"
     ]
    }
   ],
   "source": [
    "# to solve this problem we will declare x as global variable\n",
    "x=10    # Global Variable             \n",
    "def show():\n",
    "    global x\n",
    "    x+=5     # Local Variable           \n",
    "    print(x)\n",
    "show()\n",
    "print(x)\n"
   ]
  },
  {
   "cell_type": "code",
   "execution_count": 30,
   "metadata": {},
   "outputs": [
    {
     "name": "stdout",
     "output_type": "stream",
     "text": [
      "5\n",
      "local\n",
      "10\n"
     ]
    }
   ],
   "source": [
    "x=10    # Global Variable             \n",
    "def show():\n",
    "    x=5     # Local Variable           \n",
    "    y=\"local\"\n",
    "    print(x)\n",
    "    print(y)\n",
    "show()\n",
    "print(x)\n"
   ]
  },
  {
   "cell_type": "markdown",
   "metadata": {},
   "source": [
    "# Functions in Functions"
   ]
  },
  {
   "cell_type": "code",
   "execution_count": 35,
   "metadata": {},
   "outputs": [
    {
     "name": "stdout",
     "output_type": "stream",
     "text": [
      "welcome\n",
      "Bye\n"
     ]
    }
   ],
   "source": [
    "# we simply call it as Enclosures\n",
    "def outer():\n",
    "    print(\"welcome\")\n",
    "    def inner():\n",
    "        print(\"Bye\")\n",
    "    inner()\n",
    "outer()"
   ]
  },
  {
   "cell_type": "code",
   "execution_count": 43,
   "metadata": {},
   "outputs": [
    {
     "name": "stdout",
     "output_type": "stream",
     "text": [
      "15\n",
      "15\n"
     ]
    }
   ],
   "source": [
    "def outer():\n",
    "    x=10\n",
    "    def inner():\n",
    "       # global x\n",
    "        nonlocal x  # nonlocal tells the interpreter that x is in enclosure and not local\n",
    "        x+=5\n",
    "        print(x)\n",
    "    inner()\n",
    "outer()\n",
    "print(x)"
   ]
  },
  {
   "cell_type": "code",
   "execution_count": null,
   "metadata": {},
   "outputs": [],
   "source": [
    "# parameters in the function call are called actual parameters whereas parameters in the function definition are called formal parameters"
   ]
  },
  {
   "cell_type": "markdown",
   "metadata": {},
   "source": [
    "# Packing arguments"
   ]
  },
  {
   "cell_type": "code",
   "execution_count": 45,
   "metadata": {},
   "outputs": [
    {
     "name": "stdout",
     "output_type": "stream",
     "text": [
      "()\n",
      "('hey', 'I', 'Love', 'python')\n"
     ]
    }
   ],
   "source": [
    "def show(*args):\n",
    "    print(args)\n",
    "show()\n",
    "show(\"hey\",\"I\",\"Love\",\"python\")"
   ]
  },
  {
   "cell_type": "code",
   "execution_count": 48,
   "metadata": {},
   "outputs": [
    {
     "name": "stdout",
     "output_type": "stream",
     "text": [
      "1\n",
      "2\n",
      "3\n",
      "('shalini',)\n"
     ]
    }
   ],
   "source": [
    "def show(a,b,c,*args):\n",
    "    print(a)\n",
    "    print(b)\n",
    "    print(c)\n",
    "    print(args)\n",
    "show(1,2,3,\"shalini\")"
   ]
  },
  {
   "cell_type": "code",
   "execution_count": 50,
   "metadata": {},
   "outputs": [
    {
     "name": "stdout",
     "output_type": "stream",
     "text": [
      "1\n",
      "2\n",
      "('shalini', 'stupid')\n",
      "100\n",
      "{'name': 'shalini'}\n"
     ]
    }
   ],
   "source": [
    "def show(a,b,c,*args,d=\"shalini\",e=\"Python\", **kwargs):\n",
    "    print(a)\n",
    "    print(b)\n",
    "    print(args)\n",
    "    print(d)\n",
    "    print(kwargs)\n",
    "show(1,2,3,\"shalini\",\"stupid\",d=100,name=\"shalini\")"
   ]
  },
  {
   "cell_type": "code",
   "execution_count": 51,
   "metadata": {},
   "outputs": [],
   "source": [
    "# a,b,c are positional arguments and *args is packed arguments. it means it is necessary to give positional parameters to function\n",
    "# explicitly . now after that any no of parameters u can give , it will be packed in args (thats why it is called packed arguments)\n",
    "#now, if we want to pack all the keyworded arguments , we will pack it in kawargs(any variable name with double asterisks),in dictionary\n"
   ]
  },
  {
   "cell_type": "markdown",
   "metadata": {},
   "source": [
    "# Lambda Functions"
   ]
  },
  {
   "cell_type": "code",
   "execution_count": 52,
   "metadata": {},
   "outputs": [],
   "source": [
    "# these are nothing but syntactical sugar and one liner functions"
   ]
  },
  {
   "cell_type": "code",
   "execution_count": 53,
   "metadata": {},
   "outputs": [
    {
     "name": "stdout",
     "output_type": "stream",
     "text": [
      "<function <lambda> at 0x0000024C41E11510>\n"
     ]
    }
   ],
   "source": [
    "add=lambda a,b : a+b\n",
    "print(add)"
   ]
  },
  {
   "cell_type": "code",
   "execution_count": 54,
   "metadata": {},
   "outputs": [
    {
     "data": {
      "text/plain": [
       "3"
      ]
     },
     "execution_count": 54,
     "metadata": {},
     "output_type": "execute_result"
    }
   ],
   "source": [
    "add(1,2)"
   ]
  },
  {
   "cell_type": "code",
   "execution_count": 59,
   "metadata": {},
   "outputs": [
    {
     "data": {
      "text/plain": [
       "[('ayush', 10), ('shalini', 20)]"
      ]
     },
     "execution_count": 59,
     "metadata": {},
     "output_type": "execute_result"
    }
   ],
   "source": [
    "a=[(\"ayush\",10),(\"shalini\",20)]\n",
    "sorted(a,key=lambda x : x[1])"
   ]
  },
  {
   "cell_type": "code",
   "execution_count": 58,
   "metadata": {},
   "outputs": [],
   "source": [
    "def key(x):\n",
    "    return x[1]"
   ]
  },
  {
   "cell_type": "markdown",
   "metadata": {},
   "source": [
    "# Decorators"
   ]
  },
  {
   "cell_type": "code",
   "execution_count": 60,
   "metadata": {},
   "outputs": [],
   "source": [
    "users={\"ayush\":\"hey\",\"shalini\":\"bye\"}"
   ]
  },
  {
   "cell_type": "code",
   "execution_count": 63,
   "metadata": {},
   "outputs": [
    {
     "name": "stdout",
     "output_type": "stream",
     "text": [
      "Hello World\n",
      "Not Authenticated\n"
     ]
    }
   ],
   "source": [
    "def show(username,password):\n",
    "    if username in users and users[username]==password:\n",
    "        print(\"Hello World\")\n",
    "    else:\n",
    "        print(\"Not Authenticated\")\n",
    "show(\"ayush\",\"hey\")\n",
    "show(\"rohan\",\"hey\")\n",
    "    "
   ]
  },
  {
   "cell_type": "code",
   "execution_count": 70,
   "metadata": {},
   "outputs": [
    {
     "name": "stdout",
     "output_type": "stream",
     "text": [
      "15\n"
     ]
    }
   ],
   "source": [
    "def add(username,password,a,b):\n",
    "     if username in users and users[username]==password:\n",
    "        print(a+b)\n",
    "     else:\n",
    "        print(\"Not Authenticated\")\n",
    "add(\"ayush\",\"hey\",5,10)\n"
   ]
  },
  {
   "cell_type": "code",
   "execution_count": 71,
   "metadata": {},
   "outputs": [],
   "source": [
    "# we are checking/ authenticating in both function without performing the actual task, but to achieve this we are copying same code in both the function so redundancy is increasing,to solve this we "
   ]
  },
  {
   "cell_type": "code",
   "execution_count": 90,
   "metadata": {},
   "outputs": [],
   "source": [
    "def login_required(func):  # we will change the behaviour of func function using login_required function \n",
    "    def wrapper(username,password,*args,**kwargs):\n",
    "        if(username in users and users[username]==password):\n",
    "            func(*args,**kwargs)\n",
    "        else:\n",
    "            print(\"Not authenticated\")\n",
    "    return wrapper     # we have returned this wrapper function which has changed the behaviour of add function"
   ]
  },
  {
   "cell_type": "code",
   "execution_count": 95,
   "metadata": {},
   "outputs": [],
   "source": [
    "def add(a,b):\n",
    "    print(a+b)\n",
    "add=login_required(add)"
   ]
  },
  {
   "cell_type": "code",
   "execution_count": 96,
   "metadata": {},
   "outputs": [],
   "source": [
    "@login_required\n",
    "def add(a,b):\n",
    "    print(a+b)\n"
   ]
  },
  {
   "cell_type": "code",
   "execution_count": 98,
   "metadata": {},
   "outputs": [],
   "source": [
    "# both blocks are equivalent, what the decorator is doing is: first create function add and then pass it to login_required and modify the behaviour of this function"
   ]
  },
  {
   "cell_type": "code",
   "execution_count": 97,
   "metadata": {},
   "outputs": [
    {
     "name": "stdout",
     "output_type": "stream",
     "text": [
      "3\n"
     ]
    }
   ],
   "source": [
    "add(\"shalini\",\"bye\",1,2)"
   ]
  },
  {
   "cell_type": "code",
   "execution_count": 91,
   "metadata": {},
   "outputs": [],
   "source": [
    "protected_add=login_required(add)\n"
   ]
  },
  {
   "cell_type": "code",
   "execution_count": 93,
   "metadata": {},
   "outputs": [
    {
     "name": "stdout",
     "output_type": "stream",
     "text": [
      "Not authenticated\n"
     ]
    }
   ],
   "source": [
    "protected_add(\"shalini\",\"bye\",1,2)"
   ]
  },
  {
   "cell_type": "code",
   "execution_count": 73,
   "metadata": {},
   "outputs": [],
   "source": [
    "# if i dont use asterisk while printing the package argument ,it will print as a single tuple ,and it will put asterisk , it will print seperated tuple"
   ]
  },
  {
   "cell_type": "code",
   "execution_count": 81,
   "metadata": {},
   "outputs": [
    {
     "name": "stdout",
     "output_type": "stream",
     "text": [
      "((1, 2, 3),)\n",
      "{}\n",
      "(1, 2, 3)\n",
      "{}\n"
     ]
    }
   ],
   "source": [
    "def temp(*args,**kwargs):\n",
    "    print(args)\n",
    "    print(kwargs)\n",
    "a=(1,2,3)\n",
    "temp(a)\n",
    "temp(*a)"
   ]
  },
  {
   "cell_type": "code",
   "execution_count": null,
   "metadata": {},
   "outputs": [],
   "source": []
  }
 ],
 "metadata": {
  "kernelspec": {
   "display_name": "Python 3",
   "language": "python",
   "name": "python3"
  },
  "language_info": {
   "codemirror_mode": {
    "name": "ipython",
    "version": 3
   },
   "file_extension": ".py",
   "mimetype": "text/x-python",
   "name": "python",
   "nbconvert_exporter": "python",
   "pygments_lexer": "ipython3",
   "version": "3.7.1"
  }
 },
 "nbformat": 4,
 "nbformat_minor": 2
}
