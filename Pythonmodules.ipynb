{
 "cells": [
  {
   "cell_type": "markdown",
   "metadata": {},
   "source": [
    "# Python Modules"
   ]
  },
  {
   "cell_type": "code",
   "execution_count": 2,
   "metadata": {},
   "outputs": [],
   "source": [
    "# Modules are nothing but bunch of function which is used to increase code reusability\n",
    "# there are various ways to build the module\n",
    "# Modules can be improved by another Program\n",
    "# python has standard library Of Modules"
   ]
  },
  {
   "cell_type": "code",
   "execution_count": 3,
   "metadata": {},
   "outputs": [
    {
     "name": "stdout",
     "output_type": "stream",
     "text": [
      "120\n"
     ]
    }
   ],
   "source": [
    "import math  # i have imported one predefined module\n",
    "print(math.factorial(5)) # used one of the function of math header file"
   ]
  },
  {
   "cell_type": "code",
   "execution_count": 5,
   "metadata": {},
   "outputs": [
    {
     "name": "stdout",
     "output_type": "stream",
     "text": [
      "120\n",
      "120\n"
     ]
    }
   ],
   "source": [
    "# if u want to import only one  function and not library do this:\n",
    "from math import factorial\n",
    "print(math.factorial(5))\n",
    "print(factorial(5)) # now we can use factorial directly"
   ]
  },
  {
   "cell_type": "code",
   "execution_count": 6,
   "metadata": {},
   "outputs": [
    {
     "name": "stdout",
     "output_type": "stream",
     "text": [
      "120\n"
     ]
    }
   ],
   "source": [
    "# for renaming a function , that is imported from a predefined module:\n",
    "from math import factorial as fact\n",
    "print(fact(5))"
   ]
  },
  {
   "cell_type": "markdown",
   "metadata": {},
   "source": [
    "# some more fuctions in Math Module"
   ]
  },
  {
   "cell_type": "code",
   "execution_count": 15,
   "metadata": {},
   "outputs": [
    {
     "name": "stdout",
     "output_type": "stream",
     "text": [
      "3.141592653589793\n",
      "1.0\n",
      "15\n",
      "5\n",
      "1\n"
     ]
    }
   ],
   "source": [
    "import math\n",
    "math.gcd(6,12)\n",
    "print(math.pi)\n",
    "math.floor(5/2)\n",
    "print(math.log(math.e))\n",
    "print(sum([1,2,3,4,5]))\n",
    "print(max([1,2,3,4,5]))\n",
    "print(min([1,2,3,4,5]))"
   ]
  },
  {
   "cell_type": "code",
   "execution_count": 17,
   "metadata": {},
   "outputs": [],
   "source": [
    "# these are functions which are running in shell but not here\n",
    "# math.inf()\n",
    "# -math.inf()\n"
   ]
  },
  {
   "cell_type": "markdown",
   "metadata": {},
   "source": [
    "# Sys Module\n",
    "   -sys module provides access to variables and functions related to system or python interpreter\n",
    "   - argv: it provides list of command line arguments\n",
    "   "
   ]
  },
  {
   "cell_type": "code",
   "execution_count": 31,
   "metadata": {},
   "outputs": [
    {
     "name": "stdout",
     "output_type": "stream",
     "text": [
      "C:\\Users\\ayush\\Anaconda3\\lib\\site-packages\\ipykernel_launcher.py\n",
      "64\n"
     ]
    }
   ],
   "source": [
    "import sys\n",
    "def printdata():\n",
    "    print(sys.argv[0])\n",
    "    print(len(sys.argv[0]))\n",
    "printdata()\n"
   ]
  },
  {
   "cell_type": "code",
   "execution_count": null,
   "metadata": {},
   "outputs": [],
   "source": []
  },
  {
   "cell_type": "code",
   "execution_count": null,
   "metadata": {},
   "outputs": [],
   "source": []
  }
 ],
 "metadata": {
  "kernelspec": {
   "display_name": "Python 3",
   "language": "python",
   "name": "python3"
  },
  "language_info": {
   "codemirror_mode": {
    "name": "ipython",
    "version": 3
   },
   "file_extension": ".py",
   "mimetype": "text/x-python",
   "name": "python",
   "nbconvert_exporter": "python",
   "pygments_lexer": "ipython3",
   "version": "3.7.1"
  }
 },
 "nbformat": 4,
 "nbformat_minor": 2
}
